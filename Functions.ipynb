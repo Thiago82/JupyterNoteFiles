{
 "cells": [
  {
   "cell_type": "markdown",
   "id": "fe4c6d34",
   "metadata": {},
   "source": [
    "# Functions"
   ]
  },
  {
   "cell_type": "code",
   "execution_count": 1,
   "id": "f23c0d9b",
   "metadata": {},
   "outputs": [
    {
     "data": {
      "text/plain": [
       "162"
      ]
     },
     "execution_count": 1,
     "metadata": {},
     "output_type": "execute_result"
    }
   ],
   "source": [
    "def multiplicar():\n",
    "    a = 3\n",
    "    b = 6\n",
    "    c = 9\n",
    "    return a * b * c\n",
    "\n",
    "multiplicar()"
   ]
  },
  {
   "cell_type": "code",
   "execution_count": 2,
   "id": "a35649b6",
   "metadata": {},
   "outputs": [
    {
     "name": "stdout",
     "output_type": "stream",
     "text": [
      "6\n",
      "162\n",
      "13824\n"
     ]
    }
   ],
   "source": [
    "def multiplicar2(a, b, c):\n",
    "    print(a * b * c)\n",
    "\n",
    "multiplicar2(1, 2, 3)\n",
    "multiplicar2(3, 6, 9)\n",
    "multiplicar2(12, 24, 48)"
   ]
  },
  {
   "cell_type": "code",
   "execution_count": 3,
   "id": "60293dee",
   "metadata": {},
   "outputs": [
    {
     "name": "stdout",
     "output_type": "stream",
     "text": [
      "Meu nome é Thiago\n",
      "eu sou game designer\n",
      "e tenho um gato\n",
      "Meu nome é Jaiminho\n",
      "eu sou carteiro\n",
      "e tenho um mochila pesada, sabe?\n"
     ]
    }
   ],
   "source": [
    "def Eu(name, profession, pet):\n",
    "    print(\"Meu nome é\", name)\n",
    "    print(\"eu sou\", profession)\n",
    "    print(\"e tenho um\", pet)\n",
    "    \n",
    "Eu(\"Thiago\", \"game designer\", \"gato\")\n",
    "Eu(\"Jaiminho\", \"carteiro\", \"mochila pesada, sabe?\")"
   ]
  },
  {
   "cell_type": "code",
   "execution_count": 16,
   "id": "0cc1be88",
   "metadata": {
    "scrolled": true
   },
   "outputs": [
    {
     "name": "stdout",
     "output_type": "stream",
     "text": [
      "\u001b[38;2;24;63;166m\n"
     ]
    }
   ],
   "source": [
    "import random\n",
    "from sty import fg  #Livraria de gráficos\n",
    "\n",
    "def geraRGB():\n",
    "    R = random.randint(0, 256)\n",
    "    G = random.randint(0, 256)\n",
    "    B = random.randint(0, 256)\n",
    "    return R, G, B\n",
    "\n",
    "\n",
    "def geraCor(R, G, B):\n",
    "    return fg(R, G, B)\n",
    "\n",
    "\n",
    "R, G, B = geraRGB()\n",
    "cor_fg = geraCor(R, G, B)\n",
    "print(cor_fg, \"Esta cor é randomizada.\")"
   ]
  }
 ],
 "metadata": {
  "kernelspec": {
   "display_name": "Python 3 (ipykernel)",
   "language": "python",
   "name": "python3"
  },
  "language_info": {
   "codemirror_mode": {
    "name": "ipython",
    "version": 3
   },
   "file_extension": ".py",
   "mimetype": "text/x-python",
   "name": "python",
   "nbconvert_exporter": "python",
   "pygments_lexer": "ipython3",
   "version": "3.11.2"
  }
 },
 "nbformat": 4,
 "nbformat_minor": 5
}
