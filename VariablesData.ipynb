{
 "cells": [
  {
   "cell_type": "markdown",
   "id": "5d36fe3e",
   "metadata": {},
   "source": [
    "# Inteiros e Floats"
   ]
  },
  {
   "cell_type": "code",
   "execution_count": null,
   "id": "23ecb2de",
   "metadata": {},
   "outputs": [],
   "source": [
    "ovos = 12\n",
    "ovos_quebrados = 4\n",
    "\n",
    "ovos_restantes = 12 - 4\n",
    "\n",
    "ovos_restantes2 = ovos - ovos_quebrados\n",
    "\n",
    "print(ovos_restantes)\n",
    "print(ovos_restantes2)"
   ]
  },
  {
   "cell_type": "code",
   "execution_count": 2,
   "id": "76d9a06f",
   "metadata": {},
   "outputs": [
    {
     "name": "stdout",
     "output_type": "stream",
     "text": [
      "5.125 5.125 5.125\n",
      "<class 'float'>\n"
     ]
    },
    {
     "data": {
      "text/plain": [
       "float"
      ]
     },
     "execution_count": 2,
     "metadata": {},
     "output_type": "execute_result"
    }
   ],
   "source": [
    "doces = 123\n",
    "crianças = 24\n",
    "\n",
    "formula1 = doces / crianças\n",
    "formula2 = 123 / 24\n",
    "formula3 = 123 / crianças\n",
    "\n",
    "print(formula1, formula2, formula3)\n",
    "\n",
    "print(type(formula1))\n",
    "\n",
    "type(formula1)\n"
   ]
  },
  {
   "cell_type": "markdown",
   "id": "55f555cf",
   "metadata": {},
   "source": [
    "# Strings"
   ]
  },
  {
   "cell_type": "code",
   "execution_count": 3,
   "id": "d7af950b",
   "metadata": {
    "scrolled": true
   },
   "outputs": [
    {
     "name": "stdout",
     "output_type": "stream",
     "text": [
      "('O', 'Gato', 'Fred', 'já possue', '7', 'é o meu gato.')\n",
      "O GatoFred já possue 7, e é o meu gato.\n",
      "O Gato Fred possue, hoje, cerca de 7 anos.\n",
      "O Gato Fred possue, hoje, cerca de 7 anos.\n",
      "Ele tem um restaurante para gatos, chamado Fred 's.\n",
      "Ele tem um restaurante para gatos, chamado Fred's.\n"
     ]
    }
   ],
   "source": [
    "pet_raça = \"Gato\"\n",
    "pet_nome = \"Fred\"\n",
    "pet_idade = \"7\"\n",
    "\n",
    "meu_pet = \"O\", pet_raça, pet_nome, \"já possue\", pet_idade, \"é o meu gato.\"\n",
    "meu_pet2 = \"O \" + pet_raça + pet_nome + \" já possue \" + pet_idade + \", e é o meu gato.\"\n",
    "\n",
    "print(meu_pet)\n",
    "print(meu_pet2)\n",
    "\n",
    "print(\"O\", pet_raça, pet_nome, \"possue, hoje, cerca de\", pet_idade, \"anos.\")\n",
    "print(\"O \"+ pet_raça, pet_nome, \"possue, hoje, cerca de \" + pet_idade, \"anos.\")\n",
    "print(\"Ele tem um restaurante para gatos, chamado\", pet_nome,\"'s.\")\n",
    "print(\"Ele tem um restaurante para gatos, chamado\", pet_nome + \"'s.\")\n"
   ]
  },
  {
   "cell_type": "code",
   "execution_count": 4,
   "id": "e12bf782",
   "metadata": {},
   "outputs": [
    {
     "name": "stdout",
     "output_type": "stream",
     "text": [
      "Eu tenho um Gato, ele se chama Fred, e possue 7 anos de idade.\n"
     ]
    }
   ],
   "source": [
    "meu_pet3 = \"Eu tenho um {}, ele se chama {}, e possue {} anos de idade.\".format(pet_raça, pet_nome, pet_idade)\n",
    "print(meu_pet3)"
   ]
  },
  {
   "cell_type": "code",
   "execution_count": 5,
   "id": "330ea562",
   "metadata": {},
   "outputs": [
    {
     "name": "stdout",
     "output_type": "stream",
     "text": [
      "leite nescau\n",
      "leite leite leite \n",
      "nescaunescaunescaunescaunescau\n",
      "leite nescau leite leite leite  nescaunescaunescaunescaunescau\n",
      "Eu tenho um Gato, ele se chama Fred, e possue 7 anos de idade. Ele adora leite mas sem nescau.\n"
     ]
    }
   ],
   "source": [
    "l = \"leite \"\n",
    "n = \"nescau\"\n",
    "\n",
    "print(l + n)\n",
    "print(l * 3)\n",
    "print(n * 5)\n",
    "print(l + n, l * 3, n * 5)\n",
    "print(meu_pet3, \"Ele adora\", l +\"mas sem\", n + \".\")"
   ]
  },
  {
   "cell_type": "markdown",
   "id": "cd85064e",
   "metadata": {},
   "source": [
    "# Boolean"
   ]
  },
  {
   "cell_type": "code",
   "execution_count": 6,
   "id": "1c3b7f90",
   "metadata": {},
   "outputs": [
    {
     "name": "stdout",
     "output_type": "stream",
     "text": [
      "True\n",
      "False\n",
      "True\n",
      "False\n"
     ]
    }
   ],
   "source": [
    "boolean1 = (3 < 6)\n",
    "print(boolean1)\n",
    "\n",
    "boolean2 = (3 > 6)\n",
    "print(boolean2)\n",
    "\n",
    "boolean3 = (3 == 3)\n",
    "print(boolean3)\n",
    "\n",
    "boolean4 = (3 == 6)\n",
    "print(boolean4)"
   ]
  },
  {
   "cell_type": "code",
   "execution_count": 8,
   "id": "1c38d70d",
   "metadata": {},
   "outputs": [
    {
     "name": "stdout",
     "output_type": "stream",
     "text": [
      "Boolean1 é True!\n",
      "Dá no mesmo! :D\n"
     ]
    }
   ],
   "source": [
    "if boolean1 is True:\n",
    "    print(\"Boolean1 é True!\")\n",
    "if boolean1 is not False:\n",
    "    print(\"Dá no mesmo! :D\")"
   ]
  },
  {
   "cell_type": "code",
   "execution_count": 9,
   "id": "da2b3a92",
   "metadata": {},
   "outputs": [
    {
     "name": "stdout",
     "output_type": "stream",
     "text": [
      "Boolean1 ativou While\n"
     ]
    }
   ],
   "source": [
    "while boolean1 is True:\n",
    "    print(\"Boolean1 ativou While\")\n",
    "    boolean1 = False"
   ]
  },
  {
   "cell_type": "code",
   "execution_count": 27,
   "id": "69c3ede3",
   "metadata": {},
   "outputs": [
    {
     "name": "stdout",
     "output_type": "stream",
     "text": [
      "boolean1 desligado\n",
      "Juntando duas condições\n"
     ]
    }
   ],
   "source": [
    "if boolean1 == False:\n",
    "    print(\"boolean1 desligado\")\n",
    "\n",
    "if boolean1 == False and boolean2 == False:\n",
    "    print(\"Juntando duas condições\")\n"
   ]
  }
 ],
 "metadata": {
  "kernelspec": {
   "display_name": "Python 3 (ipykernel)",
   "language": "python",
   "name": "python3"
  },
  "language_info": {
   "codemirror_mode": {
    "name": "ipython",
    "version": 3
   },
   "file_extension": ".py",
   "mimetype": "text/x-python",
   "name": "python",
   "nbconvert_exporter": "python",
   "pygments_lexer": "ipython3",
   "version": "3.11.2"
  }
 },
 "nbformat": 4,
 "nbformat_minor": 5
}
