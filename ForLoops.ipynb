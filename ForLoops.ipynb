{
 "cells": [
  {
   "cell_type": "markdown",
   "id": "54eb110e",
   "metadata": {},
   "source": [
    "# FOR"
   ]
  },
  {
   "cell_type": "code",
   "execution_count": 8,
   "id": "0e2d45ae",
   "metadata": {},
   "outputs": [
    {
     "name": "stdout",
     "output_type": "stream",
     "text": [
      "A\n",
      "B\n",
      "C\n",
      "D\n",
      "E\n",
      "F\n",
      "G\n",
      "['A', 'B', 'C', 'D', 'E', 'F', 'G']\n"
     ]
    }
   ],
   "source": [
    "lista = [\"A\",\"B\",\"C\",\"D\",\"E\",\"F\",\"G\"]\n",
    "print(\"A\")\n",
    "print(\"B\")\n",
    "print(\"C\")\n",
    "print(\"D\")\n",
    "print(\"E\")\n",
    "print(\"F\")\n",
    "print(\"G\")\n",
    "print(lista)"
   ]
  },
  {
   "cell_type": "code",
   "execution_count": 10,
   "id": "49cfaca5",
   "metadata": {},
   "outputs": [
    {
     "name": "stdout",
     "output_type": "stream",
     "text": [
      "A\n",
      "B\n",
      "C\n",
      "D\n",
      "E\n",
      "F\n",
      "G\n"
     ]
    }
   ],
   "source": [
    "for items in lista:\n",
    "    print (items)"
   ]
  },
  {
   "cell_type": "code",
   "execution_count": 31,
   "id": "62433507",
   "metadata": {},
   "outputs": [
    {
     "name": "stdout",
     "output_type": "stream",
     "text": [
      "Maria, poderia segurar aqui, por favor?\n",
      "Joana, poderia segurar aqui, por favor?\n",
      "Rosana, poderia segurar aqui, por favor?\n",
      "Obrigado.\n"
     ]
    }
   ],
   "source": [
    "listaDnomes = [\"Maria\", \"Joana\", \"Rosana\"]\n",
    "\n",
    "for nomes in listaDnomes:\n",
    "    print(nomes + \", poderia segurar aqui, por favor?\")\n",
    "\n",
    "print(\"Obrigado.\")"
   ]
  },
  {
   "cell_type": "code",
   "execution_count": 40,
   "id": "93a9868b",
   "metadata": {},
   "outputs": [
    {
     "name": "stdout",
     "output_type": "stream",
     "text": [
      "Hello, hello, hello\n",
      "Hello, hello, hello\n",
      "Hello, hello, hello\n",
      "Oi, Oi!\n",
      "Oi, Oi!\n",
      "Oi, Oi!\n",
      "Oi, Oi!\n",
      "Oi, Oi!\n",
      "hello, hello, hello\n",
      "Oi, Oi\n"
     ]
    }
   ],
   "source": [
    "for hello in range(3):\n",
    "    print(\"Hello, hello, hello\")\n",
    "    \n",
    "for oi in range(5):\n",
    "    print(\"Oi, Oi!\")\n",
    "    \n",
    "print(\"hello, hello, hello\")\n",
    "print(\"Oi, Oi\")"
   ]
  },
  {
   "cell_type": "code",
   "execution_count": null,
   "id": "217f3640",
   "metadata": {},
   "outputs": [],
   "source": []
  }
 ],
 "metadata": {
  "kernelspec": {
   "display_name": "Python 3 (ipykernel)",
   "language": "python",
   "name": "python3"
  },
  "language_info": {
   "codemirror_mode": {
    "name": "ipython",
    "version": 3
   },
   "file_extension": ".py",
   "mimetype": "text/x-python",
   "name": "python",
   "nbconvert_exporter": "python",
   "pygments_lexer": "ipython3",
   "version": "3.11.2"
  }
 },
 "nbformat": 4,
 "nbformat_minor": 5
}
