{
 "cells": [
  {
   "cell_type": "markdown",
   "id": "e5642d58",
   "metadata": {},
   "source": [
    "# Classes e Objetos"
   ]
  },
  {
   "cell_type": "code",
   "execution_count": 1,
   "id": "94728564",
   "metadata": {},
   "outputs": [],
   "source": [
    "# FUNÇÕES dentro de uma classe são MÉTODOS.\n",
    "# VARIÁVEIS com o prefixo \"self.\" tornam-se ATRIBUTOS\n",
    "# VARIÁVEIS que são criadas desta forma dentro das classes são os OBJETOS."
   ]
  },
  {
   "cell_type": "code",
   "execution_count": 2,
   "id": "02343c4a",
   "metadata": {},
   "outputs": [
    {
     "ename": "IndentationError",
     "evalue": "expected an indented block after function definition on line 6 (3264725414.py, line 7)",
     "output_type": "error",
     "traceback": [
      "\u001b[0;36m  Cell \u001b[0;32mIn [2], line 7\u001b[0;36m\u001b[0m\n\u001b[0;31m    self.atributos =[]\u001b[0m\n\u001b[0m    ^\u001b[0m\n\u001b[0;31mIndentationError\u001b[0m\u001b[0;31m:\u001b[0m expected an indented block after function definition on line 6\n"
     ]
    }
   ],
   "source": [
    "# __init__ inicializam atributos dentro das classes.\n",
    "# são executados automaticamente em cada instancia\n",
    "# possuem nomes reservados\n",
    "\n",
    "class minhaClasse:\n",
    "    def __init__(self):\n",
    "    self.atributos =[]"
   ]
  },
  {
   "cell_type": "code",
   "execution_count": 3,
   "id": "6a65c264",
   "metadata": {},
   "outputs": [
    {
     "name": "stdout",
     "output_type": "stream",
     "text": [
      "vermelha\n",
      "amarela\n"
     ]
    }
   ],
   "source": [
    "# self servem como parametro dentro da classe\n",
    "# são unicos como caracteristica para cada classe.\n",
    "\n",
    "class Frutinha:\n",
    "    def __init__(self, cor):\n",
    "        self.cor = cor\n",
    "        \n",
    "maçã = Frutinha(\"vermelha\")\n",
    "banana = Frutinha(\"amarela\")\n",
    "\n",
    "print(maçã.cor)\n",
    "print(banana.cor)"
   ]
  },
  {
   "cell_type": "code",
   "execution_count": 4,
   "id": "be4006f9",
   "metadata": {},
   "outputs": [
    {
     "name": "stdout",
     "output_type": "stream",
     "text": [
      "banana amarela\n"
     ]
    }
   ],
   "source": [
    "class Fruta1:\n",
    "    def __init__(self):\n",
    "        self.nome = \"banana\"\n",
    "        self.cor = \"amarela\"\n",
    "\n",
    "fruta1 = Fruta1()\n",
    "print(fruta1.nome, fruta1.cor)"
   ]
  },
  {
   "cell_type": "code",
   "execution_count": 5,
   "id": "f41a87ad",
   "metadata": {},
   "outputs": [
    {
     "name": "stdout",
     "output_type": "stream",
     "text": [
      "maçã verde\n"
     ]
    }
   ],
   "source": [
    "class Fruta2:\n",
    "    def __init__(self):\n",
    "        self.nome = \"banana\"\n",
    "        self.cor = \"amarela\"\n",
    "\n",
    "fruta2 = Fruta2()\n",
    "\n",
    "fruta2.nome = \"maçã\"\n",
    "fruta2.cor = \"verde\"\n",
    "\n",
    "print(fruta2.nome, fruta2.cor)"
   ]
  },
  {
   "cell_type": "code",
   "execution_count": 6,
   "id": "4b65816d",
   "metadata": {},
   "outputs": [
    {
     "name": "stdout",
     "output_type": "stream",
     "text": [
      "banana amarela\n",
      "maçã verde\n",
      "abacate maduro\n"
     ]
    }
   ],
   "source": [
    "class Fruta3:\n",
    "    def __init__(self, nome, cor):\n",
    "        self.nome = nome\n",
    "        self.cor = cor\n",
    "\n",
    "banana = Fruta3(\"banana\", \"amarela\")\n",
    "maçã = Fruta3(\"maçã\", \"verde\")\n",
    "abacate = Fruta3(\"abacate\", \"maduro\")\n",
    "\n",
    "print(banana.nome, banana.cor)\n",
    "print(maçã.nome, maçã.cor)\n",
    "print(abacate.nome, abacate.cor)\n",
    "\n"
   ]
  },
  {
   "cell_type": "code",
   "execution_count": 7,
   "id": "eeafd023",
   "metadata": {},
   "outputs": [
    {
     "name": "stdout",
     "output_type": "stream",
     "text": [
      "Minha fruta do conde tem uma cor estranha\n"
     ]
    }
   ],
   "source": [
    "class NovaFruta():\n",
    "    def __init__(self, nome, cor):\n",
    "        self.nome = nome\n",
    "        self.cor = cor\n",
    "    def detalhes(self):\n",
    "        print(\"Minha \" + self.nome + \n",
    "              \" tem uma \" + self.cor)\n",
    "        \n",
    "fruta_do_conde = NovaFruta(\"fruta do conde\", \"cor estranha\")\n",
    "fruta_do_conde.detalhes()"
   ]
  },
  {
   "cell_type": "code",
   "execution_count": null,
   "id": "5ad59f60",
   "metadata": {},
   "outputs": [],
   "source": []
  }
 ],
 "metadata": {
  "kernelspec": {
   "display_name": "Python 3 (ipykernel)",
   "language": "python",
   "name": "python3"
  },
  "language_info": {
   "codemirror_mode": {
    "name": "ipython",
    "version": 3
   },
   "file_extension": ".py",
   "mimetype": "text/x-python",
   "name": "python",
   "nbconvert_exporter": "python",
   "pygments_lexer": "ipython3",
   "version": "3.11.2"
  }
 },
 "nbformat": 4,
 "nbformat_minor": 5
}
